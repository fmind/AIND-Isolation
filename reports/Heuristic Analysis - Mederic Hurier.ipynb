{
 "cells": [
  {
   "cell_type": "markdown",
   "metadata": {
    "deletable": true,
    "editable": true
   },
   "source": [
    "# Introduction"
   ]
  },
  {
   "cell_type": "markdown",
   "metadata": {
    "deletable": true,
    "editable": true
   },
   "source": [
    "The goal of this report is to analyze four heuristics for the Game Playing project:\n",
    "- __stay_close_to_center__: the agent moves near the center of the board.\n",
    "- __stay_close_to_opponent__: the agent follows the opponent across the board.\n",
    "    - _aggressive variant_: the agent also tries to deny the legal moves of the opponent.\n",
    "- __stay_close_to_blank_spaces__: the agent goes to the area with the most blank spaces.\n",
    "- __improved_opponent__: the agent takes the mean of the stay_close_to_opponent (aggressive) and improve_score heuristics.\n",
    "\n",
    "The idea behind __stay_close_to_center__ and __stay_close_to_blank_spaces__ heuristics is to keep the agent where there is less constraints. Similar to the improved_score, we except the agent to find more options in these areas than its opponent.\n",
    "\n",
    "The plan for the __stay_close_to_opponent__ heuristic is to copy the opponent action and steal its legal moves. We except the agent to win though a war of attrition.\n",
    "\n",
    "Finally, the __improved_opponent__ heuristic is a combination of two score functions: improved_score and stay_close_to_opponent (aggresive). The agent will balance its tendency to move where there is more options and stop the track of its opponent. \n",
    "\n",
    "In the next paragraph, we import the tournament data and visualize the results."
   ]
  },
  {
   "cell_type": "markdown",
   "metadata": {
    "deletable": true,
    "editable": true
   },
   "source": [
    "# Data Preparation"
   ]
  },
  {
   "cell_type": "code",
   "execution_count": 28,
   "metadata": {
    "collapsed": false,
    "deletable": true,
    "editable": true
   },
   "outputs": [],
   "source": [
    "from collections import defaultdict\n",
    "from glob import iglob\n",
    "import pandas as pd\n",
    "import numpy as np\n",
    "import os\n",
    "import re\n",
    "\n",
    "%matplotlib inline"
   ]
  },
  {
   "cell_type": "code",
   "execution_count": 29,
   "metadata": {
    "collapsed": false,
    "deletable": true,
    "editable": true
   },
   "outputs": [
    {
     "data": {
      "text/html": [
       "<div>\n",
       "<table border=\"1\" class=\"dataframe\">\n",
       "  <thead>\n",
       "    <tr style=\"text-align: right;\">\n",
       "      <th></th>\n",
       "      <th></th>\n",
       "      <th>AB_Improved</th>\n",
       "      <th>AB_Null</th>\n",
       "      <th>AB_Open</th>\n",
       "      <th>MM_Improved</th>\n",
       "      <th>MM_Null</th>\n",
       "      <th>MM_Open</th>\n",
       "      <th>Random</th>\n",
       "      <th>AVG</th>\n",
       "    </tr>\n",
       "  </thead>\n",
       "  <tbody>\n",
       "    <tr>\n",
       "      <th rowspan=\"2\" valign=\"top\">improved_opponent</th>\n",
       "      <th>Student</th>\n",
       "      <td>0.60</td>\n",
       "      <td>0.75</td>\n",
       "      <td>0.75</td>\n",
       "      <td>0.35</td>\n",
       "      <td>0.85</td>\n",
       "      <td>0.70</td>\n",
       "      <td>1.00</td>\n",
       "      <td>0.714286</td>\n",
       "    </tr>\n",
       "    <tr>\n",
       "      <th>ID_Improved</th>\n",
       "      <td>0.65</td>\n",
       "      <td>0.80</td>\n",
       "      <td>0.55</td>\n",
       "      <td>0.60</td>\n",
       "      <td>0.60</td>\n",
       "      <td>0.55</td>\n",
       "      <td>0.95</td>\n",
       "      <td>0.671429</td>\n",
       "    </tr>\n",
       "    <tr>\n",
       "      <th rowspan=\"2\" valign=\"top\">stay_close_to_opponent_aggresive</th>\n",
       "      <th>Student</th>\n",
       "      <td>0.50</td>\n",
       "      <td>0.80</td>\n",
       "      <td>0.60</td>\n",
       "      <td>0.60</td>\n",
       "      <td>0.90</td>\n",
       "      <td>0.70</td>\n",
       "      <td>0.95</td>\n",
       "      <td>0.721429</td>\n",
       "    </tr>\n",
       "    <tr>\n",
       "      <th>ID_Improved</th>\n",
       "      <td>0.75</td>\n",
       "      <td>0.70</td>\n",
       "      <td>0.60</td>\n",
       "      <td>0.75</td>\n",
       "      <td>0.75</td>\n",
       "      <td>0.70</td>\n",
       "      <td>0.85</td>\n",
       "      <td>0.728571</td>\n",
       "    </tr>\n",
       "    <tr>\n",
       "      <th rowspan=\"2\" valign=\"top\">stay_close_to_center</th>\n",
       "      <th>Student</th>\n",
       "      <td>0.60</td>\n",
       "      <td>0.70</td>\n",
       "      <td>0.70</td>\n",
       "      <td>0.70</td>\n",
       "      <td>0.65</td>\n",
       "      <td>0.50</td>\n",
       "      <td>0.80</td>\n",
       "      <td>0.664286</td>\n",
       "    </tr>\n",
       "    <tr>\n",
       "      <th>ID_Improved</th>\n",
       "      <td>0.50</td>\n",
       "      <td>0.70</td>\n",
       "      <td>0.65</td>\n",
       "      <td>0.55</td>\n",
       "      <td>0.85</td>\n",
       "      <td>0.65</td>\n",
       "      <td>0.85</td>\n",
       "      <td>0.678571</td>\n",
       "    </tr>\n",
       "    <tr>\n",
       "      <th rowspan=\"2\" valign=\"top\">stay_close_to_opponent</th>\n",
       "      <th>Student</th>\n",
       "      <td>0.55</td>\n",
       "      <td>0.80</td>\n",
       "      <td>0.40</td>\n",
       "      <td>0.65</td>\n",
       "      <td>0.95</td>\n",
       "      <td>0.70</td>\n",
       "      <td>0.90</td>\n",
       "      <td>0.707143</td>\n",
       "    </tr>\n",
       "    <tr>\n",
       "      <th>ID_Improved</th>\n",
       "      <td>0.55</td>\n",
       "      <td>0.75</td>\n",
       "      <td>0.60</td>\n",
       "      <td>0.80</td>\n",
       "      <td>0.80</td>\n",
       "      <td>0.75</td>\n",
       "      <td>0.95</td>\n",
       "      <td>0.742857</td>\n",
       "    </tr>\n",
       "    <tr>\n",
       "      <th rowspan=\"2\" valign=\"top\">stay_close_to_blank_spaces</th>\n",
       "      <th>Student</th>\n",
       "      <td>0.50</td>\n",
       "      <td>0.60</td>\n",
       "      <td>0.60</td>\n",
       "      <td>0.35</td>\n",
       "      <td>0.90</td>\n",
       "      <td>0.60</td>\n",
       "      <td>0.90</td>\n",
       "      <td>0.635714</td>\n",
       "    </tr>\n",
       "    <tr>\n",
       "      <th>ID_Improved</th>\n",
       "      <td>0.65</td>\n",
       "      <td>0.70</td>\n",
       "      <td>0.60</td>\n",
       "      <td>0.70</td>\n",
       "      <td>0.80</td>\n",
       "      <td>0.80</td>\n",
       "      <td>0.95</td>\n",
       "      <td>0.742857</td>\n",
       "    </tr>\n",
       "  </tbody>\n",
       "</table>\n",
       "</div>"
      ],
      "text/plain": [
       "                                              AB_Improved  AB_Null  AB_Open  \\\n",
       "improved_opponent                Student             0.60     0.75     0.75   \n",
       "                                 ID_Improved         0.65     0.80     0.55   \n",
       "stay_close_to_opponent_aggresive Student             0.50     0.80     0.60   \n",
       "                                 ID_Improved         0.75     0.70     0.60   \n",
       "stay_close_to_center             Student             0.60     0.70     0.70   \n",
       "                                 ID_Improved         0.50     0.70     0.65   \n",
       "stay_close_to_opponent           Student             0.55     0.80     0.40   \n",
       "                                 ID_Improved         0.55     0.75     0.60   \n",
       "stay_close_to_blank_spaces       Student             0.50     0.60     0.60   \n",
       "                                 ID_Improved         0.65     0.70     0.60   \n",
       "\n",
       "                                              MM_Improved  MM_Null  MM_Open  \\\n",
       "improved_opponent                Student             0.35     0.85     0.70   \n",
       "                                 ID_Improved         0.60     0.60     0.55   \n",
       "stay_close_to_opponent_aggresive Student             0.60     0.90     0.70   \n",
       "                                 ID_Improved         0.75     0.75     0.70   \n",
       "stay_close_to_center             Student             0.70     0.65     0.50   \n",
       "                                 ID_Improved         0.55     0.85     0.65   \n",
       "stay_close_to_opponent           Student             0.65     0.95     0.70   \n",
       "                                 ID_Improved         0.80     0.80     0.75   \n",
       "stay_close_to_blank_spaces       Student             0.35     0.90     0.60   \n",
       "                                 ID_Improved         0.70     0.80     0.80   \n",
       "\n",
       "                                              Random       AVG  \n",
       "improved_opponent                Student        1.00  0.714286  \n",
       "                                 ID_Improved    0.95  0.671429  \n",
       "stay_close_to_opponent_aggresive Student        0.95  0.721429  \n",
       "                                 ID_Improved    0.85  0.728571  \n",
       "stay_close_to_center             Student        0.80  0.664286  \n",
       "                                 ID_Improved    0.85  0.678571  \n",
       "stay_close_to_opponent           Student        0.90  0.707143  \n",
       "                                 ID_Improved    0.95  0.742857  \n",
       "stay_close_to_blank_spaces       Student        0.90  0.635714  \n",
       "                                 ID_Improved    0.95  0.742857  "
      ]
     },
     "execution_count": 29,
     "metadata": {},
     "output_type": "execute_result"
    }
   ],
   "source": [
    "PATTERN = re.compile('^Match (\\d+):\\s+([\\w_]+)\\s+vs\\s+([\\w_]+)\\s+Result:\\s+(\\d+)\\s+to\\s+(\\d+)$')\n",
    "\n",
    "def extract_matches_from_result(result):\n",
    "    \"\"\"Extract match information and index the win ratio by opponent and players.\"\"\"\n",
    "    matches = defaultdict(dict)\n",
    "    \n",
    "    with open(result, 'r') as fin:\n",
    "        for l in map(lambda l: l.strip(), fin.readlines()):\n",
    "            m = PATTERN.search(l)\n",
    "            \n",
    "            if m is None:\n",
    "                continue\n",
    "                \n",
    "            mid, player, opponent, wins, losses = m.groups()\n",
    "            wins, losses = int(wins), int(losses)\n",
    "            wins_ratio = wins / (wins + losses)\n",
    "            \n",
    "            matches[player][opponent] = wins_ratio \n",
    "\n",
    "    return matches\n",
    "\n",
    "# hierarchical index\n",
    "index0 = list()\n",
    "index1 = list()\n",
    "\n",
    "# table values\n",
    "values = list()\n",
    "\n",
    "for result in iglob('../results/*'):\n",
    "    basename = os.path.basename(result)\n",
    "    filename, ext = os.path.splitext(basename)\n",
    "    matches = extract_matches_from_result(result)\n",
    "    \n",
    "    index0.extend([filename] * len(matches.keys()))\n",
    "    index1.extend(matches.keys())\n",
    "    values.extend(matches.values())\n",
    "    \n",
    "df = pd.DataFrame(values, index=[index0, index1])\n",
    "df['AVG'] = df.mean(axis=1)\n",
    "df"
   ]
  },
  {
   "cell_type": "code",
   "execution_count": 31,
   "metadata": {
    "collapsed": false,
    "deletable": true,
    "editable": true
   },
   "outputs": [
    {
     "data": {
      "text/plain": [
       "<matplotlib.axes._subplots.AxesSubplot at 0x7ff60b94a080>"
      ]
     },
     "execution_count": 31,
     "metadata": {},
     "output_type": "execute_result"
    },
    {
     "data": {
      "image/png": "[encoded data removed]",
      "text/plain": [
       "<matplotlib.figure.Figure at 0x7ff60b983b38>"
      ]
     },
     "metadata": {},
     "output_type": "display_data"
    }
   ],
   "source": [
    "df['AVG'].plot(kind='bar', color=['b', 'r'], figsize=(20, 7))"
   ]
  },
  {
   "cell_type": "markdown",
   "metadata": {
    "deletable": true,
    "editable": true
   },
   "source": [
    "# Conclusions\n",
    "\n",
    "3 heuristics are performing worse than the project baseline (ID_improved): __stay_close_to_blank_spaces__, __stay_close_to_opponent__, __stay_close_to_center__. Despite the initial intuition, the heuristic seems to be too simple compared to the baseline. For instance, these 3 heuristics do not consider the location of the opponent in their evaluation. __They should not be selected for the custom score function__.\n",
    "\n",
    "At first, the aggressive variant of the __stay_close_to_opponent__ seems to have similar performance than the baseline heuristic. However, the main wins are earned against the random and null opponents, which is not the most difficult configuration. __This variant is not satisfying on its own and should not be selected as well__.\n",
    "\n",
    "Combined with the __improved_score__ function, we see that the heuristic outperforms the baseline. A key takeaway of this projet is that a good heuristic need to combine different aspect of the game. For instance, it should select the move that lefts the agent with the most options while denying the opponent tactic. __The combined function could be used as the main custom_score function for our agent__.\n",
    "\n",
    "Three reasons to choose the proposed function (__improve_score__):\n",
    "\n",
    "  - the overall winning rate of the proposed function (71%) is higher than the baseline function (67%)\n",
    "  \n",
    "  - the proposed function has a similar winning rate against the stronger opponent (AB_Improved) (60% compared to 65%)\n",
    "  \n",
    "  - the proposed function is able to perform better than the baseline function against weaker opponents (RANDOM +5%, MM_Open +15%, MM_Null +15%, AB_Open +20%)"
   ]
  }
 ],
 "metadata": {
  "kernelspec": {
   "display_name": "Python 3",
   "language": "python",
   "name": "python3"
  },
  "language_info": {
   "codemirror_mode": {
    "name": "ipython",
    "version": 3
   },
   "file_extension": ".py",
   "mimetype": "text/x-python",
   "name": "python",
   "nbconvert_exporter": "python",
   "pygments_lexer": "ipython3",
   "version": "3.5.2"
  },
  "latex_metadata": {
   "author": "Médéric Hurier",
   "title": "Heuristic Analysis"
  }
 },
 "nbformat": 4,
 "nbformat_minor": 2
}
